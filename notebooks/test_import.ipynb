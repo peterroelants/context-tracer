{
 "cells": [
  {
   "cell_type": "code",
   "execution_count": 1,
   "metadata": {},
   "outputs": [],
   "source": [
    "from llmtrace.trace import TRACE_CONTEXT, trace, log_trace"
   ]
  },
  {
   "cell_type": "code",
   "execution_count": 2,
   "metadata": {},
   "outputs": [
    {
     "name": "stdout",
     "output_type": "stream",
     "text": [
      "(name=do_a id=7275 nb_children=0 parent=(name=do_b id=66ae nb_children=1 parent=(name=do_c id=29cd nb_children=1 parent=(name=root id=d16a nb_children=1))))\n",
      "(name=do_a id=f126 nb_children=0 parent=(name=do_b id=66ae nb_children=2 parent=(name=do_c id=29cd nb_children=1 parent=(name=root id=d16a nb_children=1))))\n",
      "(name=do_a id=00db nb_children=0 parent=(name=do_b id=7567 nb_children=1 parent=(name=do_c id=29cd nb_children=2 parent=(name=root id=d16a nb_children=1))))\n",
      "(name=do_a id=7bcc nb_children=0 parent=(name=do_b id=7567 nb_children=2 parent=(name=do_c id=29cd nb_children=2 parent=(name=root id=d16a nb_children=1))))\n",
      "(name=do_a id=b914 nb_children=0 parent=(name=do_c id=29cd nb_children=3 parent=(name=root id=d16a nb_children=1)))\n",
      "(name=root id=d16a nb_children=1)\n"
     ]
    }
   ],
   "source": [
    "@trace\n",
    "def do_a():\n",
    "    print(TRACE_CONTEXT.get())\n",
    "    log_trace(\"Hello world from aAa 1st!\")\n",
    "    log_trace(\"Hello world from aAa 2nd!\")\n",
    "\n",
    "@trace\n",
    "def do_b():\n",
    "    do_a()\n",
    "    do_a()\n",
    "    log_trace(\"Hello world from bBb!\")\n",
    "    log_trace(\"Hello world from bBb second time!\")\n",
    "\n",
    "@trace\n",
    "def do_c():\n",
    "    do_b()\n",
    "    do_b()\n",
    "    do_a()\n",
    "\n",
    "\n",
    "do_c()\n",
    "print(TRACE_CONTEXT.get())"
   ]
  }
 ],
 "metadata": {
  "kernelspec": {
   "display_name": "llmtrace",
   "language": "python",
   "name": "python3"
  },
  "language_info": {
   "codemirror_mode": {
    "name": "ipython",
    "version": 3
   },
   "file_extension": ".py",
   "mimetype": "text/x-python",
   "name": "python",
   "nbconvert_exporter": "python",
   "pygments_lexer": "ipython3",
   "version": "3.11.3"
  },
  "orig_nbformat": 4
 },
 "nbformat": 4,
 "nbformat_minor": 2
}
