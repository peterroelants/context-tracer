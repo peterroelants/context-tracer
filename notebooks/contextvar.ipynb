{
 "cells": [
  {
   "cell_type": "code",
   "execution_count": 7,
   "metadata": {},
   "outputs": [
    {
     "name": "stdout",
     "output_type": "stream",
     "text": [
      "var.name='var'\n",
      "<Token var=<ContextVar name='var' at 0x7f91232f0f40> at 0x7f9111c11d40>\n",
      "var.name='var'  var.get()='new value'\n",
      "var.name='var'\n",
      "<Token used var=<ContextVar name='var' at 0x7f91232f0f40> at 0x7f9111c11d40>\n"
     ]
    }
   ],
   "source": [
    "from contextvars import ContextVar\n",
    "\n",
    "var = ContextVar('var')\n",
    "print(f\"{var.name=}\")\n",
    "\n",
    "token = var.set('new value')\n",
    "# print(f\"{token.name=}  {token.get()=}\")\n",
    "print(f\"{token}\")\n",
    "print(f\"{var.name=}  {var.get()=}\")\n",
    "# code that uses 'var'; var.get() returns 'new value'.\n",
    "var.reset(token)\n",
    "print(f\"{var.name=}\")\n",
    "print(f\"{token}\")"
   ]
  },
  {
   "cell_type": "code",
   "execution_count": 8,
   "metadata": {},
   "outputs": [],
   "source": [
    "# Example from https://peps.python.org/pep-0550/#generators\n",
    "\n",
    "import contextvars\n",
    "\n",
    "var1 = contextvars.ContextVar('var1')\n",
    "var2 = contextvars.ContextVar('var2')\n",
    "\n",
    "def gen():\n",
    "    var1.set('gen')\n",
    "    assert var1.get() == 'gen'\n",
    "    assert var2.get() == 'main'\n",
    "    yield 1\n",
    "\n",
    "    # Modification to var1 in main() is shielded by\n",
    "    # gen()'s local modification.\n",
    "    assert var1.get() == 'gen'\n",
    "\n",
    "    # But modifications to var2 are visible\n",
    "    assert var2.get() == 'main modified'\n",
    "    yield 2\n",
    "\n",
    "def main():\n",
    "    g = gen()\n",
    "\n",
    "    var1.set('main')\n",
    "    var2.set('main')\n",
    "    next(g)\n",
    "\n",
    "    # Modification of var1 in gen() is not visible.\n",
    "    assert var1.get() == 'main'\n",
    "\n",
    "    var1.set('main modified')\n",
    "    var2.set('main modified')\n",
    "    next(g)"
   ]
  }
 ],
 "metadata": {
  "kernelspec": {
   "display_name": "llmtrace",
   "language": "python",
   "name": "python3"
  },
  "language_info": {
   "codemirror_mode": {
    "name": "ipython",
    "version": 3
   },
   "file_extension": ".py",
   "mimetype": "text/x-python",
   "name": "python",
   "nbconvert_exporter": "python",
   "pygments_lexer": "ipython3",
   "version": "3.11.3"
  },
  "orig_nbformat": 4
 },
 "nbformat": 4,
 "nbformat_minor": 2
}
