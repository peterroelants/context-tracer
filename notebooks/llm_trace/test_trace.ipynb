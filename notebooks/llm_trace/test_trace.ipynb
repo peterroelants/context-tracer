{
 "cells": [
  {
   "cell_type": "code",
   "execution_count": null,
   "metadata": {},
   "outputs": [],
   "source": [
    "import logging\n",
    "\n",
    "logger = logging.getLogger(\"root\")\n",
    "logger.setLevel(logging.INFO)\n",
    "logger.addHandler(logging.StreamHandler())"
   ]
  },
  {
   "cell_type": "code",
   "execution_count": null,
   "metadata": {},
   "outputs": [],
   "source": [
    "import time"
   ]
  },
  {
   "cell_type": "code",
   "execution_count": null,
   "metadata": {},
   "outputs": [],
   "source": [
    "from pathlib import Path\n",
    "\n",
    "from context_tracer.trace import trace, log_with_trace\n",
    "from context_tracer.tracing_viewer.trace_with_server import TracingWithServer"
   ]
  },
  {
   "cell_type": "code",
   "execution_count": null,
   "metadata": {},
   "outputs": [],
   "source": [
    "@trace\n",
    "def do_a():\n",
    "    log_with_trace(text=\"Hello world from aAa 1st!\\nNew line!\")\n",
    "    time.sleep(0.5)\n",
    "    log_with_trace(text=\"Hello world from aAa 2nd!\\n\\nNew line!\")\n",
    "    time.sleep(0.5)\n",
    "\n",
    "\n",
    "@trace\n",
    "def do_b():\n",
    "    time.sleep(0.5)\n",
    "    do_a()\n",
    "    time.sleep(0.5)\n",
    "    do_a()\n",
    "    log_with_trace(text=\"Hello world from bBb!\", var3=object())\n",
    "    time.sleep(0.5)\n",
    "    log_with_trace(test_var1=\"Hello world from bBb second time!\", test_var_2=3)\n",
    "    time.sleep(0.5)\n",
    "\n",
    "\n",
    "@trace\n",
    "def program():\n",
    "    time.sleep(1)\n",
    "    do_b()\n",
    "    do_b()\n",
    "    do_a()\n",
    "\n",
    "\n",
    "with TracingWithServer(\"TestingRoot\") as tracing:\n",
    "    time.sleep(1)\n",
    "    program()\n",
    "    time.sleep(1)\n",
    "print(\"DONE!\")"
   ]
  }
 ],
 "metadata": {
  "kernelspec": {
   "display_name": "llmtrace",
   "language": "python",
   "name": "python3"
  },
  "language_info": {
   "codemirror_mode": {
    "name": "ipython",
    "version": 3
   },
   "file_extension": ".py",
   "mimetype": "text/x-python",
   "name": "python",
   "nbconvert_exporter": "python",
   "pygments_lexer": "ipython3",
   "version": "3.11.6"
  }
 },
 "nbformat": 4,
 "nbformat_minor": 2
}
