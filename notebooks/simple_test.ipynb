{
 "cells": [
  {
   "cell_type": "code",
   "execution_count": 11,
   "metadata": {},
   "outputs": [
    {
     "name": "stdout",
     "output_type": "stream",
     "text": [
      "cvar.name='cvar'  cvar.get()='default var1'\n",
      "cvar.name='cvar'  cvar.get()='new_context 1'\n",
      "cvar.name='cvar'  cvar.get()='new_context 1 A'\n",
      "cvar.name='cvar'  cvar.get()='new_context 1'\n",
      "cvar.name='cvar'  cvar.get()='new_context 2 A'\n",
      "cvar.name='cvar'  cvar.get()='default var1'\n"
     ]
    }
   ],
   "source": [
    "import contextvars\n",
    "from contextvars import Context, ContextVar, copy_context\n",
    "from contextlib import contextmanager\n",
    "\n",
    "\n",
    "cvar = ContextVar('cvar', default='default var1')\n",
    "\n",
    "\n",
    "@contextmanager\n",
    "def new_context(c: str):\n",
    "    orig_token = cvar.set(c)\n",
    "    yield\n",
    "    cvar.reset(orig_token)\n",
    "\n",
    "\n",
    "def main():\n",
    "    print(f\"{cvar.name=}  {cvar.get()=}\")\n",
    "    with new_context('new_context 1'):\n",
    "        print(f\"{cvar.name=}  {cvar.get()=}\")\n",
    "        with new_context('new_context 1 A'):\n",
    "            print(f\"{cvar.name=}  {cvar.get()=}\")\n",
    "        print(f\"{cvar.name=}  {cvar.get()=}\")\n",
    "        with new_context('new_context 2 A'):\n",
    "            print(f\"{cvar.name=}  {cvar.get()=}\")\n",
    "    print(f\"{cvar.name=}  {cvar.get()=}\")\n",
    "\n",
    "\n",
    "main()"
   ]
  },
  {
   "cell_type": "code",
   "execution_count": 12,
   "metadata": {},
   "outputs": [
    {
     "name": "stdout",
     "output_type": "stream",
     "text": [
      "cvar.name='context_stack'  cvar.get()=[]\n",
      "cvar.name='context_stack'  cvar.get()=['1']\n",
      "cvar.name='context_stack'  cvar.get()=['1', 'A']\n",
      "cvar.name='context_stack'  cvar.get()=['1']\n",
      "cvar.name='context_stack'  cvar.get()=['1', 'B']\n",
      "cvar.name='context_stack'  cvar.get()=[]\n"
     ]
    }
   ],
   "source": [
    "import contextvars\n",
    "from contextvars import Context, ContextVar, copy_context\n",
    "from contextlib import contextmanager\n",
    "\n",
    "\n",
    "cvar = ContextVar('context_stack')\n",
    "cvar.set([])\n",
    "\n",
    "@contextmanager\n",
    "def new_context(c: str):\n",
    "    orig_token = cvar.set(cvar.get() + [c])\n",
    "    yield\n",
    "    cvar.reset(orig_token)\n",
    "\n",
    "\n",
    "def main():\n",
    "    print(f\"{cvar.name=}  {cvar.get()=}\")\n",
    "    with new_context('1'):\n",
    "        print(f\"{cvar.name=}  {cvar.get()=}\")\n",
    "        with new_context('A'):\n",
    "            print(f\"{cvar.name=}  {cvar.get()=}\")\n",
    "        print(f\"{cvar.name=}  {cvar.get()=}\")\n",
    "        with new_context('B'):\n",
    "            print(f\"{cvar.name=}  {cvar.get()=}\")\n",
    "    print(f\"{cvar.name=}  {cvar.get()=}\")\n",
    "\n",
    "\n",
    "main()"
   ]
  }
 ],
 "metadata": {
  "kernelspec": {
   "display_name": "llmtrace",
   "language": "python",
   "name": "python3"
  },
  "language_info": {
   "codemirror_mode": {
    "name": "ipython",
    "version": 3
   },
   "file_extension": ".py",
   "mimetype": "text/x-python",
   "name": "python",
   "nbconvert_exporter": "python",
   "pygments_lexer": "ipython3",
   "version": "3.11.3"
  },
  "orig_nbformat": 4
 },
 "nbformat": 4,
 "nbformat_minor": 2
}
