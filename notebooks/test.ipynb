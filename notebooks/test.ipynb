{
 "cells": [
  {
   "cell_type": "code",
   "execution_count": null,
   "metadata": {},
   "outputs": [],
   "source": [
    "from pathlib import Path\n",
    "import requests\n",
    "import uuid\n",
    "import json\n",
    "import base64\n",
    "\n",
    "from context_tracer.trace_implementations.trace_server.trace_server import running_server, SpanPayload"
   ]
  },
  {
   "cell_type": "code",
   "execution_count": null,
   "metadata": {},
   "outputs": [],
   "source": [
    "db_path = Path(\"./\") / \"export\" / \"test.sqlite\"\n",
    "\n",
    "span_id=SpanPayload.id_to_str(uuid.uuid1().bytes)\n",
    "\n",
    "span = SpanPayload.from_bytes_ids(\n",
    "    name=\"test\",\n",
    "    data_json=json.dumps({\"test\": \"test\"}),\n",
    "    parent_id=None,\n",
    ")\n",
    "print(f\"{span=}\")\n",
    "print(f\"{span.model_dump_byte_ids()=}\")\n",
    "print()\n",
    "\n",
    "with running_server(db_path=db_path) as server:\n",
    "    url = f\"http://localhost:{server.port}\"\n",
    "    # Make a request to the server\n",
    "    resp = requests.get(f\"{url}/api/status/ready\")\n",
    "    assert resp.status_code == 200\n",
    "    # Send a span\n",
    "    resp = requests.put(f\"{url}/api/span/{span_id}\", json=span.model_dump())\n",
    "    print(f\"{resp.status_code=};  {resp=};  {resp.text=}\")\n",
    "    print(f\"{resp.request.body=}\")\n",
    "    assert resp.status_code == 200\n",
    "    # Get the span\n",
    "    resp = requests.get(f\"{url}/api/span/{span_id}\")\n",
    "    print(f\"{resp.status_code=};  {resp=};  {resp.text=}\")\n",
    "    assert resp.status_code == 200\n",
    "    same_span = SpanPayload.model_validate_json(resp.text)\n",
    "    print(f\"{same_span=}\")\n",
    "    assert same_span == span"
   ]
  },
  {
   "cell_type": "code",
   "execution_count": null,
   "metadata": {},
   "outputs": [],
   "source": [
    "resp.request.body"
   ]
  }
 ],
 "metadata": {
  "kernelspec": {
   "display_name": "context_tracer_env",
   "language": "python",
   "name": "python3"
  },
  "language_info": {
   "codemirror_mode": {
    "name": "ipython",
    "version": 3
   },
   "file_extension": ".py",
   "mimetype": "text/x-python",
   "name": "python",
   "nbconvert_exporter": "python",
   "pygments_lexer": "ipython3",
   "version": "3.11.6"
  }
 },
 "nbformat": 4,
 "nbformat_minor": 2
}
