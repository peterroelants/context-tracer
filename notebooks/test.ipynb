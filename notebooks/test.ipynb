{
 "cells": [
  {
   "cell_type": "code",
   "execution_count": null,
   "metadata": {},
   "outputs": [],
   "source": [
    "import sqlite3\n",
    "import json\n",
    "\n",
    "\n",
    "# # Initialize the database\n",
    "# db = sqlite3.connect(\"file::memory:?cache=shared\")\n",
    "# CREATE_TABLE_SQL = \"CREATE TABLE test_table(json_data TEXT)\"\n",
    "# with db:\n",
    "#     cur = db.cursor()\n",
    "#     cur.execute(CREATE_TABLE_SQL)\n",
    "\n",
    "# # Insert some data\n",
    "# obj_a = dict(name=\"test a\")\n",
    "# obj_b = dict(name=\"test b\")\n",
    "\n",
    "# INSERT_SQL = \"INSERT INTO test_table VALUES (?)\"\n",
    "# with db:\n",
    "#     cur = db.cursor()\n",
    "#     cur.execute(INSERT_SQL, (json.dumps(obj_a),))\n",
    "#     cur.execute(INSERT_SQL, (json.dumps(obj_b),))\n",
    "\n",
    "\n",
    "obj_a = dict(name=\"test a\", a_specific=\"a\", common=dict(a=1, b=2))\n",
    "obj_b = dict(name=\"test b\", b_specific=\"b\", common=dict(b=20, c=30))\n",
    "db = sqlite3.connect(\"file::memory:?cache=shared\")\n",
    "with db:\n",
    "    # cur.execute(\"SELECT json_patch(?, ?)\", ('{\"name\":\"obj-1\"}', '{\"names\": \"obj-2\"}'))\n",
    "    # print(cur.fetchall())\n",
    "    cur.execute(f\"SELECT json_patch(?, ?)\", (json.dumps(obj_a), json.dumps(obj_b)))\n",
    "    print(cur.fetchall())"
   ]
  }
 ],
 "metadata": {
  "kernelspec": {
   "display_name": "context_tracer_env",
   "language": "python",
   "name": "python3"
  },
  "language_info": {
   "codemirror_mode": {
    "name": "ipython",
    "version": 3
   },
   "file_extension": ".py",
   "mimetype": "text/x-python",
   "name": "python",
   "nbconvert_exporter": "python",
   "pygments_lexer": "ipython3",
   "version": "3.11.6"
  }
 },
 "nbformat": 4,
 "nbformat_minor": 2
}
