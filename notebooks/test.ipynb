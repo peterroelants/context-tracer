{
 "cells": [
  {
   "cell_type": "code",
   "execution_count": 1,
   "metadata": {},
   "outputs": [],
   "source": [
    "import contextvars\n",
    "from contextvars import Context, ContextVar, copy_context\n",
    "from contextlib import contextmanager\n",
    "import functools\n",
    "from typing import Callable, Any, Optional\n",
    "import hashlib\n",
    "import uuid\n",
    "import base64\n",
    "import time\n",
    "from datetime import datetime, timezone\n",
    "import json\n",
    "import pprint\n",
    "from pathlib import Path\n",
    "\n",
    "from pydantic import BaseModel, Field"
   ]
  },
  {
   "cell_type": "code",
   "execution_count": 2,
   "metadata": {},
   "outputs": [
    {
     "data": {
      "text/plain": [
       "datetime.datetime(2023, 5, 29, 14, 23, 7, 835368)"
      ]
     },
     "execution_count": 2,
     "metadata": {},
     "output_type": "execute_result"
    }
   ],
   "source": [
    "datetime.fromtimestamp(datetime.now().timestamp())"
   ]
  },
  {
   "cell_type": "code",
   "execution_count": 3,
   "metadata": {},
   "outputs": [
    {
     "data": {
      "text/plain": [
       "datetime.datetime(2023, 5, 29, 14, 23, 7, 976007)"
      ]
     },
     "execution_count": 3,
     "metadata": {},
     "output_type": "execute_result"
    }
   ],
   "source": [
    "datetime.fromtimestamp(datetime.utcnow().replace(tzinfo=timezone.utc).timestamp())"
   ]
  },
  {
   "cell_type": "code",
   "execution_count": 4,
   "metadata": {},
   "outputs": [
    {
     "data": {
      "text/plain": [
       "datetime.datetime(2023, 5, 29, 12, 23, 8, 69599)"
      ]
     },
     "execution_count": 4,
     "metadata": {},
     "output_type": "execute_result"
    }
   ],
   "source": [
    "datetime.fromtimestamp(datetime.utcnow().timestamp())"
   ]
  },
  {
   "cell_type": "code",
   "execution_count": 5,
   "metadata": {},
   "outputs": [
    {
     "data": {
      "text/plain": [
       "datetime.datetime(2023, 5, 29, 12, 23, 8, 226310, tzinfo=datetime.timezone.utc)"
      ]
     },
     "execution_count": 5,
     "metadata": {},
     "output_type": "execute_result"
    }
   ],
   "source": [
    "datetime.fromtimestamp(datetime.now().timestamp(), tz=timezone.utc)"
   ]
  },
  {
   "cell_type": "code",
   "execution_count": 6,
   "metadata": {},
   "outputs": [
    {
     "data": {
      "text/plain": [
       "datetime.datetime(2023, 5, 29, 12, 23, 8, 397808, tzinfo=datetime.timezone.utc)"
      ]
     },
     "execution_count": 6,
     "metadata": {},
     "output_type": "execute_result"
    }
   ],
   "source": [
    "datetime.fromtimestamp(datetime.now(timezone.utc).timestamp(), tz=timezone.utc)"
   ]
  },
  {
   "cell_type": "code",
   "execution_count": 7,
   "metadata": {},
   "outputs": [
    {
     "data": {
      "text/plain": [
       "datetime.datetime(2023, 5, 29, 14, 23, 8, 512799, tzinfo=datetime.timezone(datetime.timedelta(seconds=7200), 'CEST'))"
      ]
     },
     "execution_count": 7,
     "metadata": {},
     "output_type": "execute_result"
    }
   ],
   "source": [
    "datetime.fromtimestamp(datetime.utcnow().timestamp()).replace(tzinfo=timezone.utc).astimezone(tz=None)"
   ]
  },
  {
   "cell_type": "code",
   "execution_count": 8,
   "metadata": {},
   "outputs": [
    {
     "data": {
      "text/plain": [
       "datetime.datetime(2023, 5, 29, 14, 23, 8, 634415)"
      ]
     },
     "execution_count": 8,
     "metadata": {},
     "output_type": "execute_result"
    }
   ],
   "source": [
    "datetime.fromtimestamp(time.time())"
   ]
  },
  {
   "cell_type": "code",
   "execution_count": 9,
   "metadata": {},
   "outputs": [
    {
     "data": {
      "text/plain": [
       "float"
      ]
     },
     "execution_count": 9,
     "metadata": {},
     "output_type": "execute_result"
    }
   ],
   "source": [
    "type(datetime.now(timezone.utc).timestamp())"
   ]
  },
  {
   "cell_type": "code",
   "execution_count": 10,
   "metadata": {},
   "outputs": [
    {
     "name": "stdout",
     "output_type": "stream",
     "text": [
      "b'\\x92(\\xf0\\xbe\\xfe\\x1b\\x11\\xed\\x94\\xc24.\\xb7\\xcd>\\x8f\\xb3\\x8d\\xad\\x02\\x9a2A+\\x82x?1u\\xb9<\\x05'\n",
      "32\n",
      "b\"\\xec\\xbb\\x02\\x98\\xferl\\xa2F\\xff\\xe4di/\\x9a\\x04\\xd1$\\x9f\\x89\\xf46\\x9e7{'\\xbd\\x04T\\x80\\xa2\\x9b\"\n",
      "32\n",
      "ecbb0298fe726ca246ffe464692f9a04d1249f89f4369e377b27bd045480a29b\n",
      "64\n",
      "b\"\\xec\\xbb\\x02\\x98\\xferl\\xa2F\\xff\\xe4di/\\x9a\\x04\\xd1$\\x9f\\x89\\xf46\\x9e7{'\\xbd\\x04T\\x80\\xa2\\x9b\"\n"
     ]
    }
   ],
   "source": [
    "uid_seed = uuid.uuid1().bytes + uuid.uuid4().bytes\n",
    "print(uid_seed)\n",
    "print(len(uid_seed))\n",
    "uid_bytes = hashlib.sha256(uid_seed).digest()\n",
    "print(uid_bytes)\n",
    "print(len(uid_bytes))\n",
    "uid_hex = hashlib.sha256(uid_seed).hexdigest()\n",
    "print(uid_hex)\n",
    "print(len(uid_hex))\n",
    "print(bytes.fromhex(uid_hex))\n",
    "# uuid_base64 = base64.urlsafe_b64encode(uid_bytes).decode(\"utf-8\").rstrip(\"=\")\n",
    "# print(uuid_base64)\n",
    "# print(len(uuid_base64))\n",
    "# print(base64.urlsafe_b64decode(uuid_base64 + \"==\"))\n"
   ]
  },
  {
   "attachments": {},
   "cell_type": "markdown",
   "metadata": {},
   "source": []
  },
  {
   "cell_type": "code",
   "execution_count": 11,
   "metadata": {},
   "outputs": [],
   "source": [
    "def get_random_hash() -> str:\n",
    "    return hashlib.sha256(uuid.uuid1().bytes + uuid.uuid4().bytes).hexdigest()"
   ]
  },
  {
   "cell_type": "code",
   "execution_count": 12,
   "metadata": {},
   "outputs": [],
   "source": [
    "def get_utc_timestamp() -> float:\n",
    "    return datetime.now(timezone.utc).timestamp()\n",
    "\n",
    "\n",
    "class TraceNode(BaseModel):\n",
    "    name: str\n",
    "    id: str = Field(default_factory=get_random_hash)\n",
    "    parent: Optional['TraceNode'] = None\n",
    "    nb_children: int = 0\n",
    "    timestamp_utc: float = Field(default_factory=get_utc_timestamp)\n",
    "    metadata: Optional[dict] = None\n",
    "\n",
    "    def update(self, name: str, metadata: Optional[dict] = None) -> tuple['TraceNode', 'TraceNode']:\n",
    "        parent = TraceNode(\n",
    "            name=self.name,\n",
    "            id=self.id,\n",
    "            parent=self.parent,\n",
    "            nb_children=self.nb_children + 1,\n",
    "            timestamp_utc=self.timestamp_utc,\n",
    "            metadata=self.metadata\n",
    "        )\n",
    "        child = TraceNode(\n",
    "            name=name,\n",
    "            parent=parent,\n",
    "            metadata=metadata,\n",
    "        )\n",
    "        return parent, child\n",
    "    \n",
    "    def get_root(self) -> 'TraceNode':\n",
    "        if self.parent is None:\n",
    "            return self\n",
    "        return self.parent.get_root()\n",
    "\n",
    "    def __str__(self) -> str:\n",
    "        return repr(self)\n",
    "\n",
    "    def __repr__(self) -> str:\n",
    "        # id_repr = self.id.hex()[:4]\n",
    "        id_repr = self.id[:4]\n",
    "        if self.parent is None:\n",
    "            return f\"(name={self.name} id={id_repr} nb_children={self.nb_children})\"\n",
    "        return f\"(name={self.name} id={id_repr} nb_children={self.nb_children} parent={self.parent!r})\"\n",
    "    \n",
    "    class Config:\n",
    "        frozen = True\n",
    "\n",
    "\n",
    "TRACE_CONTEXT = ContextVar[TraceNode](\n",
    "    'STACK_CONTEXT',\n",
    "    default=TraceNode(name='root')\n",
    ")\n",
    "\n",
    "LOG_DIR = Path('./logs')\n",
    "\n",
    "\n",
    "# @contextmanager\n",
    "# def new_context(ctx: ContextModel):\n",
    "#     orig_token = TRACE_CONTEXT.set(TRACE_CONTEXT.get() + [ctx])\n",
    "#     try:\n",
    "#         yield\n",
    "#     finally:\n",
    "#         TRACE_CONTEXT.reset(orig_token)\n",
    "\n",
    "\n",
    "@contextmanager\n",
    "def update_context(name: str, metadata:Optional[dict] = None):\n",
    "    parent, child = TRACE_CONTEXT.get().update(name, metadata=metadata)\n",
    "    TRACE_CONTEXT.set(parent)\n",
    "    orig_token = TRACE_CONTEXT.set(child)\n",
    "    try:\n",
    "        yield\n",
    "    finally:\n",
    "        TRACE_CONTEXT.reset(orig_token)\n",
    "\n",
    "\n",
    "def log_trace(msg: str) -> None:\n",
    "    trace = TRACE_CONTEXT.get()\n",
    "    root_trace = trace.get_root()\n",
    "    root_time = datetime.fromtimestamp(root_trace.timestamp_utc).strftime(\"%Y%m%d_%H%M%S\")\n",
    "    root_dir_name = f\"{root_trace.name}_{root_time}_{root_trace.id}\"\n",
    "    log_dir = LOG_DIR / root_dir_name\n",
    "    log_dir.mkdir(parents=True, exist_ok=True)\n",
    "    log_file = log_dir / f\"{trace.id}.log.json\"\n",
    "    log_dct = trace.dict(exclude_none=True)\n",
    "    log_dct['log_message'] = msg\n",
    "    with log_file.open('w') as f:\n",
    "        json.dump(log_dct, f)\n",
    "\n",
    "\n",
    "\n",
    "def trace(func: Callable):\n",
    "    @functools.wraps(func)\n",
    "    def trace_decorator(*args, **kwargs):\n",
    "        # Do something before\n",
    "        with update_context(name=func.__name__):\n",
    "            value = func(*args, **kwargs)\n",
    "            # Do something after\n",
    "            return value\n",
    "    return trace_decorator"
   ]
  },
  {
   "cell_type": "code",
   "execution_count": 13,
   "metadata": {},
   "outputs": [
    {
     "name": "stdout",
     "output_type": "stream",
     "text": [
      "(name=do_a id=af35 nb_children=0 parent=(name=do_b id=c152 nb_children=1 parent=(name=do_c id=300e nb_children=1 parent=(name=root id=812d nb_children=1))))\n",
      "(name=do_a id=9fd4 nb_children=0 parent=(name=do_b id=c152 nb_children=2 parent=(name=do_c id=300e nb_children=1 parent=(name=root id=812d nb_children=1))))\n",
      "(name=do_a id=ea07 nb_children=0 parent=(name=do_b id=e1b8 nb_children=1 parent=(name=do_c id=300e nb_children=2 parent=(name=root id=812d nb_children=1))))\n",
      "(name=do_a id=56f9 nb_children=0 parent=(name=do_b id=e1b8 nb_children=2 parent=(name=do_c id=300e nb_children=2 parent=(name=root id=812d nb_children=1))))\n",
      "(name=do_a id=e749 nb_children=0 parent=(name=do_c id=300e nb_children=3 parent=(name=root id=812d nb_children=1)))\n",
      "(name=root id=812d nb_children=1)\n"
     ]
    }
   ],
   "source": [
    "@trace\n",
    "def do_a():\n",
    "    print(TRACE_CONTEXT.get())\n",
    "    log_trace(\"Hello world 123!\")\n",
    "\n",
    "@trace\n",
    "def do_b():\n",
    "    do_a()\n",
    "    do_a()\n",
    "\n",
    "@trace\n",
    "def do_c():\n",
    "    do_b()\n",
    "    do_b()\n",
    "    do_a()\n",
    "\n",
    "\n",
    "do_c()\n",
    "print(TRACE_CONTEXT.get())"
   ]
  },
  {
   "cell_type": "code",
   "execution_count": null,
   "metadata": {},
   "outputs": [],
   "source": []
  },
  {
   "cell_type": "code",
   "execution_count": null,
   "metadata": {},
   "outputs": [],
   "source": []
  }
 ],
 "metadata": {
  "kernelspec": {
   "display_name": "llmtrace",
   "language": "python",
   "name": "python3"
  },
  "language_info": {
   "codemirror_mode": {
    "name": "ipython",
    "version": 3
   },
   "file_extension": ".py",
   "mimetype": "text/x-python",
   "name": "python",
   "nbconvert_exporter": "python",
   "pygments_lexer": "ipython3",
   "version": "3.11.3"
  },
  "orig_nbformat": 4
 },
 "nbformat": 4,
 "nbformat_minor": 2
}
