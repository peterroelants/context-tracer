{
 "cells": [
  {
   "cell_type": "code",
   "execution_count": null,
   "metadata": {},
   "outputs": [],
   "source": [
    "from pathlib import Path\n",
    "import logging\n",
    "import sys\n",
    "import time\n",
    "\n",
    "from context_tracer.trace import trace\n",
    "from context_tracer.trace import trace, log_with_trace\n",
    "from context_tracer.trace_types import get_current_span_safe\n",
    "from context_tracer.tracing_viewer.tracer_with_view import TracingWithViewer"
   ]
  },
  {
   "cell_type": "code",
   "execution_count": null,
   "metadata": {},
   "outputs": [],
   "source": [
    "logger = logging.getLogger()\n",
    "logger.setLevel(logging.DEBUG)\n",
    "handler = logging.StreamHandler(sys.stdout)\n",
    "handler.setLevel(logging.INFO)\n",
    "logger.addHandler(handler)"
   ]
  },
  {
   "cell_type": "code",
   "execution_count": null,
   "metadata": {},
   "outputs": [],
   "source": [
    "db_path = Path(\"./\") / \"export\" / \"test.sqlite\"\n",
    "html_path = Path(\"./\") / \"export\" / \"test.html\""
   ]
  },
  {
   "cell_type": "code",
   "execution_count": null,
   "metadata": {},
   "outputs": [],
   "source": [
    "@trace\n",
    "def do_a():\n",
    "    span = get_current_span_safe()\n",
    "    logger.info(f\"do_a(): {span.uid.hex()=}, {span.name=}, {span=}\")\n",
    "    log_with_trace(text=\"Hello world from aAa 1st!\\nNew line!\")\n",
    "    time.sleep(0.5)\n",
    "    log_with_trace(text=\"Hello world from aAa 2nd!\\n\\nNew line!\")\n",
    "    time.sleep(0.5)\n",
    "\n",
    "\n",
    "@trace\n",
    "def do_b():\n",
    "    span = get_current_span_safe()\n",
    "    logger.info(f\"do_b(): {span.uid.hex()=}, {span.name=}, {span=}\")\n",
    "    time.sleep(0.5)\n",
    "    do_a()\n",
    "    time.sleep(0.5)\n",
    "    do_a()\n",
    "    log_with_trace(text=\"Hello world from bBb!\", var3=object())\n",
    "    time.sleep(0.5)\n",
    "    log_with_trace(test_var1=\"Hello world from bBb second time!\", test_var_2=3)\n",
    "    time.sleep(0.5)\n",
    "\n",
    "\n",
    "@trace\n",
    "def program():\n",
    "    span = get_current_span_safe()\n",
    "    logger.info(f\"program(): {span.uid.hex()=}, {span.name=}, {span=}\")\n",
    "    time.sleep(1)\n",
    "    do_b()\n",
    "    do_b()\n",
    "    do_a()\n",
    "\n",
    "\n"
   ]
  },
  {
   "cell_type": "code",
   "execution_count": null,
   "metadata": {},
   "outputs": [],
   "source": [
    "with TracingWithViewer(db_path=db_path, export_html_path=html_path, open_browser=True, access_log=False) as tracing:\n",
    "    program()"
   ]
  }
 ],
 "metadata": {
  "kernelspec": {
   "display_name": "context_tracer_env",
   "language": "python",
   "name": "python3"
  },
  "language_info": {
   "codemirror_mode": {
    "name": "ipython",
    "version": 3
   },
   "file_extension": ".py",
   "mimetype": "text/x-python",
   "name": "python",
   "nbconvert_exporter": "python",
   "pygments_lexer": "ipython3",
   "version": "3.11.6"
  }
 },
 "nbformat": 4,
 "nbformat_minor": 2
}
